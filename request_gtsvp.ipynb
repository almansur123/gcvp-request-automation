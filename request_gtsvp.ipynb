{
  "cells": [
    {
      "cell_type": "code",
      "execution_count": null,
      "metadata": {
        "colab": {
          "base_uri": "https://localhost:8080/",
          "height": 101
        },
        "collapsed": true,
        "id": "f4UivOcASIqu",
        "outputId": "7ef81915-7492-42da-f58e-e183b68bf538"
      },
      "outputs": [],
      "source": [
        "from graphviz import Digraph\n",
        "from IPython.display import Image\n",
        "\n",
        "def create_bpmn_diagram():\n",
        "    dot = Digraph('BPMN_Process', format='png')\n",
        "    dot.attr(rankdir='LR', size='12')\n",
        "\n",
        "    # Старт процесса\n",
        "    dot.node('Start', '', shape='circle', width='0.3', style='filled', fillcolor='lightgray')\n",
        "\n",
        "    # Подача заявки\n",
        "    dot.node('Submit_Request', 'Подача заявки', shape='rect', style='rounded, filled', fillcolor='lightblue')\n",
        "\n",
        "    # Проверка наличия отчета в КЭШ\n",
        "    dot.node('Check_Cache', 'Проверка наличия отчета в КЭШ', shape='diamond', style='filled', fillcolor='lightyellow')\n",
        "\n",
        "    # Два исхода из шлюза\n",
        "    dot.node('Provide_Cache_Report', 'Предоставление отчета из КЭШ', shape='rect', style='rounded, filled', fillcolor='lightgreen')\n",
        "    dot.node('Request_GCVP_Report', 'Запрос отчета в ГЦВП', shape='rect', style='rounded, filled', fillcolor='lightgreen')\n",
        "\n",
        "    # Проверка согласия клиента\n",
        "    dot.node('Check_Client_Consent', 'Проверка согласия клиента', shape='rect', style='rounded, filled', fillcolor='lightblue')\n",
        "\n",
        "    # Формирование отчета в PDF\n",
        "    dot.node('Generate_PDF', 'Формирование отчета в PDF', shape='rect', style='rounded, filled', fillcolor='lightgreen')\n",
        "\n",
        "    # Возврат заявки на доработку\n",
        "    dot.node('Return_For_Revision', 'Возврат заявки на доработку', shape='rect', style='rounded, filled', fillcolor='lightblue')\n",
        "\n",
        "    # Интеграция с системами\n",
        "    dot.node('System_Integration', 'Интеграция с системами', shape='rect', style='rounded, filled', fillcolor='lightgreen')\n",
        "\n",
        "    # Ведение журнала заявок\n",
        "    dot.node('Log_Requests', 'Ведение журнала заявок', shape='rect', style='rounded, filled', fillcolor='lightgreen')\n",
        "\n",
        "    # Завершение процесса\n",
        "    dot.node('End', '', shape='doublecircle', width='0.3', style='filled', fillcolor='lightgray')\n",
        "\n",
        "    # Связи между элементами\n",
        "    dot.edge('Start', 'Submit_Request')\n",
        "    dot.edge('Submit_Request', 'Check_Cache')\n",
        "    dot.edge('Check_Cache', 'Provide_Cache_Report', label='Да')\n",
        "    dot.edge('Check_Cache', 'Request_GCVP_Report', label='Нет')\n",
        "    dot.edge('Provide_Cache_Report', 'Check_Client_Consent')\n",
        "    dot.edge('Request_GCVP_Report', 'Check_Client_Consent')\n",
        "    dot.edge('Check_Client_Consent', 'Generate_PDF', label='Согласие есть')\n",
        "    dot.edge('Check_Client_Consent', 'Return_For_Revision', label='Нет согласия')\n",
        "    dot.edge('Generate_PDF', 'System_Integration')\n",
        "    dot.edge('System_Integration', 'Log_Requests')\n",
        "    dot.edge('Log_Requests', 'End')\n",
        "    dot.edge('Return_For_Revision', 'Submit_Request')\n",
        "\n",
        "    # Генерация файла и отображение в Colab\n",
        "    filename = dot.render('/content/bpmn_process')\n",
        "    return Image(filename=filename)\n",
        "\n",
        "# Вызов функции для отображения диаграммы\n",
        "create_bpmn_diagram()"
      ]
    },
    {
      "cell_type": "code",
      "execution_count": null,
      "metadata": {
        "colab": {
          "base_uri": "https://localhost:8080/",
          "height": 1000
        },
        "collapsed": true,
        "id": "8-JQ2JsLTSem",
        "outputId": "22e7ab14-76cc-41f5-a16a-a44c5d67111c"
      },
      "outputs": [],
      "source": [
        "import graphviz\n",
        "from IPython.display import display\n",
        "\n",
        "def create_bpmn_diagram():\n",
        "    dot = graphviz.Digraph('BPMN_Process', format='png')\n",
        "\n",
        "    # Определение узлов (элементов BPMN)\n",
        "    dot.node('Start', 'Старт процесса', shape='circle', style='filled', fillcolor='lightgreen')\n",
        "    dot.node('Task1', 'Подача заявки', shape='rect', style='rounded, filled', fillcolor='lightblue')\n",
        "    dot.node('Gateway', 'Проверка наличия отчета в КЭШ', shape='diamond', style='filled', fillcolor='yellow')\n",
        "    dot.node('Task2', 'Предоставление отчета из КЭШ', shape='rect', style='rounded, filled', fillcolor='lightblue')\n",
        "    dot.node('Task3', 'Запрос отчета в ГЦВП', shape='rect', style='rounded, filled', fillcolor='lightblue')\n",
        "    dot.node('Task4', 'Проверка согласия клиента', shape='rect', style='rounded, filled', fillcolor='lightblue')\n",
        "    dot.node('Task5', 'Формирование отчета в PDF', shape='rect', style='rounded, filled', fillcolor='lightblue')\n",
        "    dot.node('Task6', 'Интеграция с системами', shape='rect', style='rounded, filled', fillcolor='lightblue')\n",
        "    dot.node('Task7', 'Ведение журнала заявок', shape='rect', style='rounded, filled', fillcolor='lightblue')\n",
        "    dot.node('End', 'Завершение процесса', shape='circle', style='filled', fillcolor='red')\n",
        "\n",
        "    # Определение связей (потоков)\n",
        "    dot.edge('Start', 'Task1')\n",
        "    dot.edge('Task1', 'Gateway')\n",
        "    dot.edge('Gateway', 'Task2', label=\"Да\")\n",
        "    dot.edge('Gateway', 'Task3', label=\"Нет\")\n",
        "    dot.edge('Task2', 'Task4')\n",
        "    dot.edge('Task3', 'Task4')\n",
        "    dot.edge('Task4', 'Task5', label=\"Согласие есть\")\n",
        "    dot.edge('Task4', 'Task1', label=\"Нет согласия\")\n",
        "    dot.edge('Task5', 'Task6')\n",
        "    dot.edge('Task6', 'Task7')\n",
        "    dot.edge('Task7', 'End')\n",
        "\n",
        "    # Сохранение файла с точным указанием пути\n",
        "    output_path = \"/content/bpmn_process\"\n",
        "    dot.render(output_path)\n",
        "\n",
        "    # Отображение картинки в Colab\n",
        "    display(Image(output_path + '.png'))\n",
        "\n",
        "create_bpmn_diagram()"
      ]
    }
  ],
  "metadata": {
    "colab": {
      "provenance": []
    },
    "kernelspec": {
      "display_name": "Python 3",
      "name": "python3"
    },
    "language_info": {
      "name": "python"
    }
  },
  "nbformat": 4,
  "nbformat_minor": 0
}
